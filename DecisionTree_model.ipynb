{
  "nbformat": 4,
  "nbformat_minor": 0,
  "metadata": {
    "colab": {
      "provenance": [],
      "collapsed_sections": [
        "sbDpBCkxu1EL"
      ]
    },
    "kernelspec": {
      "name": "python3",
      "display_name": "Python 3"
    },
    "language_info": {
      "name": "python"
    },
    "gpuClass": "standard"
  },
  "cells": [
    {
      "cell_type": "code",
      "execution_count": null,
      "metadata": {
        "colab": {
          "base_uri": "https://localhost:8080/"
        },
        "id": "3ndbzpahWk7B",
        "outputId": "0d7ebd84-6585-46c7-d24e-ba5323d55b3d"
      },
      "outputs": [
        {
          "output_type": "stream",
          "name": "stdout",
          "text": [
            "Drive already mounted at /content/drive; to attempt to forcibly remount, call drive.mount(\"/content/drive\", force_remount=True).\n"
          ]
        }
      ],
      "source": [
        "from google.colab import drive\n",
        "drive.mount('/content/drive')"
      ]
    },
    {
      "cell_type": "markdown",
      "source": [
        "#Dependencies"
      ],
      "metadata": {
        "id": "uIkRqs4WumO2"
      }
    },
    {
      "cell_type": "code",
      "source": [
        "import numpy as np\n",
        "import pandas as pd"
      ],
      "metadata": {
        "id": "Y94-2N8BbAXk"
      },
      "execution_count": null,
      "outputs": []
    },
    {
      "cell_type": "code",
      "source": [
        "from sklearn.multioutput import MultiOutputRegressor\n",
        "from sklearn.linear_model import Ridge\n",
        "from sklearn.ensemble import GradientBoostingRegressor \n",
        "from sklearn.tree import DecisionTreeRegressor \n",
        "from sklearn.neighbors import KNeighborsRegressor\n",
        "from sklearn.ensemble import HistGradientBoostingRegressor\n",
        "from sklearn.ensemble import ExtraTreesRegressor"
      ],
      "metadata": {
        "id": "fgjZuTtTbDYj"
      },
      "execution_count": null,
      "outputs": []
    },
    {
      "cell_type": "markdown",
      "source": [
        "#Train"
      ],
      "metadata": {
        "id": "Gk4859McwQ5Z"
      }
    },
    {
      "cell_type": "code",
      "source": [
        "df = pd.read_csv('/content/drive/MyDrive/Hahaton zinc/data.csv', sep = ',')\n",
        "df = df.drop(columns=['Unnamed: 0', 'DateTime'])\n",
        "df = df.loc[df[\"CuOut\"] <= 200]\n",
        "df = df.loc[df[\"CdOut\"] <= 1000]\n",
        "df.head()"
      ],
      "metadata": {
        "id": "NH63FUd-eMU5"
      },
      "execution_count": null,
      "outputs": []
    },
    {
      "cell_type": "code",
      "source": [
        "seed = 42\n",
        "train_size = 0.85\n",
        "\n",
        "df_train = df.sample(frac=train_size, random_state=seed)\n",
        "df_test = df.drop(df_train.index)\n",
        "\n",
        "df_train_copy = df_train.copy()\n",
        "df_test_copy = df_test.copy()\n",
        "\n",
        "X_train = df_train_copy.drop(['CuOut', 'CdOut', 'ZnOut'], axis=1)\n",
        "X_test = df_test_copy.drop(['CuOut', 'CdOut', 'ZnOut'], axis=1)\n",
        "\n",
        "y_train = df_train_copy[['CuOut', 'CdOut', 'ZnOut']].copy()\n",
        "y_test = df_test_copy[['CuOut', 'CdOut', 'ZnOut']].copy()"
      ],
      "metadata": {
        "id": "sAA1yVNrjkPE"
      },
      "execution_count": null,
      "outputs": []
    },
    {
      "cell_type": "code",
      "source": [
        "def calculate_score(X, model):\n",
        "    y = model.predict(X)\n",
        "    cu_err = np.abs(y_test.values[:,0] - y[:,0]).mean()\n",
        "    cd_err = np.abs(y_test.values[:,1] - y[:,1]).mean()\n",
        "    zn_err = np.abs(y_test.values[:,2] - y[:,2]).mean()\n",
        "    return np.array((cu_err, cd_err, zn_err)).transpose().squeeze()"
      ],
      "metadata": {
        "id": "ub0w1EDGpKme"
      },
      "execution_count": null,
      "outputs": []
    },
    {
      "cell_type": "code",
      "source": [
        "from pandas.core.common import random_state\n",
        "\n",
        "splitter = 'best'\n",
        "criterion = 'squared_error'\n",
        "max_depth = None\n",
        "min_samples_split = 2\n",
        "min_samples_leaf = 1\n",
        "min_weight_fraction_leaf = 0.0\n",
        "max_features = None\n",
        "max_leaf_nodes = None\n",
        "min_impurity_decrease = 0.0\n",
        "ccp_alpha = 0.0\n",
        "\n",
        "def Regressor(rnd):\n",
        "    return MultiOutputRegressor(DecisionTreeRegressor(\n",
        "        random_state=rnd, \n",
        "        splitter=splitter, \n",
        "        criterion=criterion,\n",
        "        max_depth=max_depth,\n",
        "        min_samples_split=min_samples_split,\n",
        "        min_samples_leaf=min_samples_leaf,\n",
        "        min_weight_fraction_leaf=min_weight_fraction_leaf,\n",
        "        max_features=max_features,\n",
        "        max_leaf_nodes=max_leaf_nodes,\n",
        "        min_impurity_decrease=min_impurity_decrease,\n",
        "        ccp_alpha=ccp_alpha))\n",
        "    #return MultiOutputRegressor(ExtraTreesRegressor(random_state=rnd, n_estimators=300, criterion='absolute_error'))"
      ],
      "metadata": {
        "id": "Qsr5xs5QRO7T"
      },
      "execution_count": null,
      "outputs": []
    },
    {
      "cell_type": "code",
      "source": [
        "regr = Regressor(seed).fit(X_train.values, y_train.values)"
      ],
      "metadata": {
        "id": "M3qQSiifRKO3"
      },
      "execution_count": null,
      "outputs": []
    },
    {
      "cell_type": "code",
      "source": [
        "score = calculate_score(X_test.values, regr)#regr.score(X_test.values, y_test.values)\n",
        "print(f'Средняя абсолютная ошибка на тестовой выборке: {score}')\n",
        "\n",
        "score = regr.score(X_test.values, y_test.values)\n",
        "print(f'score: {score}')"
      ],
      "metadata": {
        "colab": {
          "base_uri": "https://localhost:8080/"
        },
        "id": "KfJOXv5XXJlO",
        "outputId": "68659a91-c782-4c41-f839-72b00c806da8"
      },
      "execution_count": null,
      "outputs": [
        {
          "output_type": "stream",
          "name": "stdout",
          "text": [
            "Средняя абсолютная ошибка на тестовой выборке: [1.60294418 5.08209216 0.21022058]\n",
            "score: 0.9587239571045746\n"
          ]
        }
      ]
    },
    {
      "cell_type": "code",
      "source": [
        "import sklearn.metrics as metrics\n",
        "def regression_results(y_true, y_pred):\n",
        "\n",
        "    # Regression metrics\n",
        "    explained_variance=metrics.explained_variance_score(y_true, y_pred)\n",
        "    mean_absolute_error=metrics.mean_absolute_error(y_true, y_pred) \n",
        "    mse=metrics.mean_squared_error(y_true, y_pred) \n",
        "    mean_squared_log_error=metrics.mean_squared_log_error(y_true, y_pred)\n",
        "    median_absolute_error=metrics.median_absolute_error(y_true, y_pred)\n",
        "    r2=metrics.r2_score(y_true, y_pred)\n",
        "\n",
        "    print('explained_variance: ', round(explained_variance,4))    \n",
        "    print('mean_squared_log_error: ', round(mean_squared_log_error,4))\n",
        "    print('r2: ', round(r2,4))\n",
        "    print('MAE: ', round(mean_absolute_error,4))\n",
        "    print('MSE: ', round(mse,4))\n",
        "    print('RMSE: ', round(np.sqrt(mse),4))"
      ],
      "metadata": {
        "id": "5WtB5Ewy7KXM"
      },
      "execution_count": null,
      "outputs": []
    },
    {
      "cell_type": "code",
      "source": [
        "regression_results(y_test.values, regr.predict(X_test.values))"
      ],
      "metadata": {
        "colab": {
          "base_uri": "https://localhost:8080/"
        },
        "id": "BepfgfRr7Mue",
        "outputId": "b0e8ad35-7537-44e2-bd1b-6692c1d42ff8"
      },
      "execution_count": null,
      "outputs": [
        {
          "output_type": "stream",
          "name": "stdout",
          "text": [
            "explained_variance:  0.9587\n",
            "mean_squared_log_error:  0.0124\n",
            "r2:  0.9587\n",
            "MAE:  2.2984\n",
            "MSE:  163.0645\n",
            "RMSE:  12.7697\n"
          ]
        }
      ]
    },
    {
      "cell_type": "code",
      "source": [
        "import pickle\n",
        "filename = 'zinc_model.sav'\n",
        "pickle.dump(regr, open(filename, 'wb'))"
      ],
      "metadata": {
        "id": "zBNAlVUN01MX"
      },
      "execution_count": null,
      "outputs": []
    },
    {
      "cell_type": "code",
      "source": [
        "from sklearn import tree\n",
        "from matplotlib import pyplot as plt\n",
        "tree.plot_tree(regr.estimators_[0])\n",
        "plt.show()"
      ],
      "metadata": {
        "colab": {
          "base_uri": "https://localhost:8080/",
          "height": 249
        },
        "id": "ykBjSlwtAbYy",
        "outputId": "df9771c9-43b1-4989-97af-468fecf652ab"
      },
      "execution_count": null,
      "outputs": [
        {
          "output_type": "display_data",
          "data": {
            "text/plain": [
              "<Figure size 432x288 with 1 Axes>"
            ],
            "image/png": "[encoded data removed]"
          },
          "metadata": {
            "needs_background": "light"
          }
        }
      ]
    },
    {
      "cell_type": "markdown",
      "source": [
        "#Inference"
      ],
      "metadata": {
        "id": "Wx59GjyNuhDC"
      }
    },
    {
      "cell_type": "markdown",
      "source": [
        "##Parse"
      ],
      "metadata": {
        "id": "sbDpBCkxu1EL"
      }
    },
    {
      "cell_type": "code",
      "source": [
        "!pip install xlrd==1.2.0\n",
        "\n",
        "def parse_to_dataFrame(path):\n",
        "  df = pd.read_excel(path)\n",
        "  df = df.drop(0)\n",
        "  df = df.drop(columns = [' '])\n",
        "  df = df.rename(columns = {\"Unnamed: 0\" : \"DateTime\"})\n",
        "  df = df.astype({col: float for col in df.columns[1:]})\n",
        "  df['DateTime'] =  pd.to_datetime(df['DateTime'], format='%d.%m.%Y %H:%M:%S')\n",
        "  \n",
        "  df = df.loc[(df[\"CHPAC1_B051_LV  --   AT501A\"] + df[\"CHPAC1_B052_LV  --   AT501B\"]) == 1 ]\n",
        "  df = df.loc[(df[\"CHPAC1_B053_LV  --   AT502A\"] + df[\"CHPAC1_B054_LV  --   AT502B\"]) == 1 ]\n",
        "\n",
        "  df1 = df.loc[(df[\"CHPAC1_B051_LV  --   AT501A\"] == 1) & (df[\"CHPAC1_B053_LV  --   AT502A\"] == 1)]\n",
        "  df2 = df.loc[(df[\"CHPAC1_B052_LV  --   AT501B\"] == 1) & (df[\"CHPAC1_B053_LV  --   AT502A\"] == 1)]\n",
        "  df3 = df.loc[(df[\"CHPAC1_B051_LV  --   AT501A\"] == 1) & (df[\"CHPAC1_B054_LV  --   AT502B\"] == 1)]\n",
        "  df4 = df.loc[(df[\"CHPAC1_B052_LV  --   AT501B\"] == 1) & (df[\"CHPAC1_B054_LV  --   AT502B\"] == 1)]\n",
        "\n",
        "  df1 = df1[[\"DateTime\",\n",
        "           \"CHPAC1_M003_PV  --   расход после P510A\",\n",
        "           \"CHPAC1_A023_PV  --   Cu - AT501A\",\n",
        "           \"CHPAC1_A025_PV  --   Cd - AT501A\",\n",
        "           \"CHPAC1_A024_PV  --   Zn - AT501A\",\n",
        "           \"CHPAC1_M099_PV  --   температура TK501А\",\n",
        "           \"CHPAC1_M129_PV  --   pH - TK501А\",\n",
        "           \"CHPAC1_C102_PV  --   авто W503B\",\n",
        "           \"CHPAC1_A033_PV  --   Cu - AT502A\",\n",
        "           \"CHPAC1_A035_PV  --   Cd - AT502A\",\n",
        "           \"CHPAC1_A034_PV  --   Zn - AT502A\"\n",
        "           ]]\n",
        "\n",
        "  df3 = df3[[\"DateTime\",\n",
        "           \"CHPAC1_M003_PV  --   расход после P510A\",\n",
        "           \"CHPAC1_A023_PV  --   Cu - AT501A\",\n",
        "           \"CHPAC1_A025_PV  --   Cd - AT501A\",\n",
        "           \"CHPAC1_A024_PV  --   Zn - AT501A\",\n",
        "           \"CHPAC1_M099_PV  --   температура TK501А\",\n",
        "           \"CHPAC1_M129_PV  --   pH - TK501А\",\n",
        "           \"CHPAC1_C102_PV  --   авто W503B\",\n",
        "           \"CHPAC1_A038_PV  --   Cu - AT502B\",\n",
        "           \"CHPAC1_A040_PV  --   Cd - AT502B\",\n",
        "           \"CHPAC1_A039_PV  --   Zn - AT502B\"\n",
        "           ]]\n",
        "\n",
        "  df2 = df2[[\"DateTime\",\n",
        "           \"CHPAC1_M004_PV  --   расход после P510B\",\n",
        "           \"CHPAC1_A028_PV  --   Cu - AT501B\",\n",
        "           \"CHPAC1_A030_PV  --   Cd - AT501B\",\n",
        "           \"CHPAC1_A029_PV  --   Zn - AT501B\",\n",
        "           \"CHPAC1_M100_PV  --   температура TK501B\",\n",
        "           \"CHPAC1_M130_PV  --   pH - TK501B\",\n",
        "           \"CHPAC1_C102_PV  --   авто W503B\",\n",
        "           \"CHPAC1_A033_PV  --   Cu - AT502A\",\n",
        "           \"CHPAC1_A035_PV  --   Cd - AT502A\",\n",
        "           \"CHPAC1_A034_PV  --   Zn - AT502A\"\n",
        "           ]]\n",
        "\n",
        "  df4 = df4[[\"DateTime\",\n",
        "           \"CHPAC1_M004_PV  --   расход после P510B\",\n",
        "           \"CHPAC1_A028_PV  --   Cu - AT501B\",\n",
        "           \"CHPAC1_A030_PV  --   Cd - AT501B\",\n",
        "           \"CHPAC1_A029_PV  --   Zn - AT501B\",\n",
        "           \"CHPAC1_M100_PV  --   температура TK501B\",\n",
        "           \"CHPAC1_M130_PV  --   pH - TK501B\",\n",
        "           \"CHPAC1_C102_PV  --   авто W503B\",\n",
        "           \"CHPAC1_A038_PV  --   Cu - AT502B\",\n",
        "           \"CHPAC1_A040_PV  --   Cd - AT502B\",\n",
        "           \"CHPAC1_A039_PV  --   Zn - AT502B\"\n",
        "           ]]\n",
        "  df1 = df1.rename(columns = {\n",
        "                            \"CHPAC1_M003_PV  --   расход после P510A\" : \"Sol\",\n",
        "                            \"CHPAC1_A023_PV  --   Cu - AT501A\" : \"CuIn\",\n",
        "                            \"CHPAC1_A025_PV  --   Cd - AT501A\" : \"CdIn\",\n",
        "                            \"CHPAC1_A024_PV  --   Zn - AT501A\" : \"ZnIn\",\n",
        "                            \"CHPAC1_M099_PV  --   температура TK501А\" : \"Temperature\",\n",
        "                            \"CHPAC1_M129_PV  --   pH - TK501А\" : \"pH\",\n",
        "                            \"CHPAC1_C102_PV  --   авто W503B\" : \"Dust\",\n",
        "                            \"CHPAC1_A033_PV  --   Cu - AT502A\" : \"CuOut\",\n",
        "                            \"CHPAC1_A035_PV  --   Cd - AT502A\" : \"CdOut\",\n",
        "                            \"CHPAC1_A034_PV  --   Zn - AT502A\" : \"ZnOut\"})\n",
        "\n",
        "  df3 = df3.rename(columns = {\n",
        "                            \"CHPAC1_M003_PV  --   расход после P510A\" : \"Sol\",\n",
        "                            \"CHPAC1_A023_PV  --   Cu - AT501A\" : \"CuIn\",\n",
        "                            \"CHPAC1_A025_PV  --   Cd - AT501A\" : \"CdIn\",\n",
        "                            \"CHPAC1_A024_PV  --   Zn - AT501A\" : \"ZnIn\",\n",
        "                            \"CHPAC1_M099_PV  --   температура TK501А\" : \"Temperature\",\n",
        "                            \"CHPAC1_M129_PV  --   pH - TK501А\" : \"pH\",\n",
        "                            \"CHPAC1_C102_PV  --   авто W503B\" : \"Dust\",\n",
        "                            \"CHPAC1_A038_PV  --   Cu - AT502B\" : \"CuOut\",\n",
        "                            \"CHPAC1_A040_PV  --   Cd - AT502B\" : \"CdOut\",\n",
        "                            \"CHPAC1_A039_PV  --   Zn - AT502B\" : \"ZnOut\"})\n",
        "  df2 = df2.rename(columns = {\n",
        "                            \"CHPAC1_M004_PV  --   расход после P510B\" : \"Sol\",\n",
        "                            \"CHPAC1_A028_PV  --   Cu - AT501B\" : \"CuIn\",\n",
        "                            \"CHPAC1_A030_PV  --   Cd - AT501B\" : \"CdIn\",\n",
        "                            \"CHPAC1_A029_PV  --   Zn - AT501B\" : \"ZnIn\",\n",
        "                            \"CHPAC1_M100_PV  --   температура TK501B\" : \"Temperature\",\n",
        "                            \"CHPAC1_M130_PV  --   pH - TK501B\" : \"pH\",\n",
        "                            \"CHPAC1_C102_PV  --   авто W503B\" : \"Dust\",\n",
        "                            \"CHPAC1_A033_PV  --   Cu - AT502A\" : \"CuOut\",\n",
        "                            \"CHPAC1_A035_PV  --   Cd - AT502A\" : \"CdOut\",\n",
        "                            \"CHPAC1_A034_PV  --   Zn - AT502A\" : \"ZnOut\"})\n",
        "\n",
        "  df4 = df4.rename(columns = {\n",
        "                            \"CHPAC1_M004_PV  --   расход после P510B\" : \"Sol\",\n",
        "                            \"CHPAC1_A028_PV  --   Cu - AT501B\" : \"CuIn\",\n",
        "                            \"CHPAC1_A030_PV  --   Cd - AT501B\" : \"CdIn\",\n",
        "                            \"CHPAC1_A029_PV  --   Zn - AT501B\" : \"ZnIn\",\n",
        "                            \"CHPAC1_M100_PV  --   температура TK501B\" : \"Temperature\",\n",
        "                            \"CHPAC1_M130_PV  --   pH - TK501B\" : \"pH\",\n",
        "                            \"CHPAC1_C102_PV  --   авто W503B\" : \"Dust\",\n",
        "                            \"CHPAC1_A038_PV  --   Cu - AT502B\" : \"CuOut\",\n",
        "                            \"CHPAC1_A040_PV  --   Cd - AT502B\" : \"CdOut\",\n",
        "                            \"CHPAC1_A039_PV  --   Zn - AT502B\" : \"ZnOut\"})\n",
        "  df = pd.concat([df1, df2, df3, df4], ignore_index=True)\n",
        "  df = df.sort_values(by=['DateTime'])\n",
        "  df = df.loc[(df[\"CuIn\"] >= 1) &\n",
        "              (df[\"CdIn\"] >= 1) &\n",
        "              (df[\"ZnIn\"] >= 1) \n",
        "            ]\n",
        "  df = df.set_index('DateTime')\n",
        "  return df"
      ],
      "metadata": {
        "colab": {
          "base_uri": "https://localhost:8080/"
        },
        "id": "CANKE5_Su5qn",
        "outputId": "a81f8f86-f22c-479b-c166-c51be672f1fa"
      },
      "execution_count": null,
      "outputs": [
        {
          "output_type": "stream",
          "name": "stdout",
          "text": [
            "Looking in indexes: https://pypi.org/simple, https://us-python.pkg.dev/colab-wheels/public/simple/\n",
            "Collecting xlrd==1.2.0\n",
            "  Downloading xlrd-1.2.0-py2.py3-none-any.whl (103 kB)\n",
            "\u001b[K     |████████████████████████████████| 103 kB 5.3 MB/s \n",
            "\u001b[?25hInstalling collected packages: xlrd\n",
            "  Attempting uninstall: xlrd\n",
            "    Found existing installation: xlrd 1.1.0\n",
            "    Uninstalling xlrd-1.1.0:\n",
            "      Successfully uninstalled xlrd-1.1.0\n",
            "Successfully installed xlrd-1.2.0\n"
          ]
        }
      ]
    },
    {
      "cell_type": "code",
      "source": [
        "df_validate = parse_to_dataFrame('/content/drive/MyDrive/Hahaton zinc/2019_07 - проверка - входные переменные.xls')"
      ],
      "metadata": {
        "id": "TpGo6N0LvM-K"
      },
      "execution_count": null,
      "outputs": []
    },
    {
      "cell_type": "code",
      "source": [
        "#df_validate = df_validate.drop(columns=['DateTime'])"
      ],
      "metadata": {
        "id": "JwOWcY6gvunF"
      },
      "execution_count": null,
      "outputs": []
    },
    {
      "cell_type": "markdown",
      "source": [
        "##Predict"
      ],
      "metadata": {
        "id": "ReKR0BRPu2hL"
      }
    },
    {
      "cell_type": "code",
      "source": [
        "df_validate.shape"
      ],
      "metadata": {
        "id": "VlrHuWBrxJ26"
      },
      "execution_count": null,
      "outputs": []
    },
    {
      "cell_type": "code",
      "source": [
        "X_val = df_validate.drop(['CuOut', 'CdOut', 'ZnOut'], axis=1)\n",
        "y_val = regr.predict(X_val.values)\n",
        "print(pd.DataFrame(X_val).shape)\n",
        "df_validate['CuOut'] = pd.DataFrame(y_val)[0]\n",
        "df_validate['CdOut'] = pd.DataFrame(y_val)[1]\n",
        "df_validate['ZnOut'] = pd.DataFrame(y_val)[2]\n",
        "df_validate"
      ],
      "metadata": {
        "id": "yegdO8DVd9ix"
      },
      "execution_count": null,
      "outputs": []
    },
    {
      "cell_type": "code",
      "source": [
        "import pickle\n",
        "\n",
        "def predict(df, model_path):\n",
        "    X = df.drop(['CuOut', 'CdOut', 'ZnOut'], axis=1)\n",
        "\n",
        "    model = pickle.load(open(model_path, 'rb'))\n",
        "\n",
        "    y = model.predict(X.values)\n",
        "    \n",
        "    df['CuOut'] = pd.DataFrame(y)[0]\n",
        "    df['CdOut'] = pd.DataFrame(y)[1]\n",
        "    df['ZnOut'] = pd.DataFrame(y)[2]\n",
        "\n",
        "    return df"
      ],
      "metadata": {
        "id": "g44z22Km0Gxc"
      },
      "execution_count": null,
      "outputs": []
    },
    {
      "cell_type": "code",
      "source": [
        "predict(df_validate, '/content/drive/MyDrive/Hahaton zinc/zinc_model_v1.0.sav')"
      ],
      "metadata": {
        "id": "hNA40iKK2f1Q"
      },
      "execution_count": null,
      "outputs": []
    }
  ]
}